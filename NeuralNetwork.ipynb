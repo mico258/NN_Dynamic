{
 "cells": [
  {
   "cell_type": "code",
   "execution_count": 1,
   "metadata": {},
   "outputs": [],
   "source": [
    "import pandas as pd\n",
    "import numpy as np\n",
    "import sklearn\n",
    "from sklearn import preprocessing,datasets\n",
    "import matplotlib.pyplot as plt\n",
    "\n",
    "\n",
    "def sigmoidDerivative(x):\n",
    "    return (x) * (1.0 - (x))\n",
    "\n",
    "def activate_sigmoid(sum):\n",
    "    return(1.0 / (1.0 + np.exp(-sum)))"
   ]
  },
  {
   "cell_type": "code",
   "execution_count": null,
   "metadata": {},
   "outputs": [],
   "source": []
  },
  {
   "cell_type": "code",
   "execution_count": null,
   "metadata": {},
   "outputs": [],
   "source": []
  },
  {
   "cell_type": "code",
   "execution_count": 15,
   "metadata": {},
   "outputs": [],
   "source": [
    "XORdata=np.array([[0,0,0],[0,1,1],[1,0,1],[1,1,0]])\n",
    "X=XORdata[:,0:2]\n",
    "y=XORdata[:,-1]"
   ]
  },
  {
   "cell_type": "code",
   "execution_count": 69,
   "metadata": {},
   "outputs": [
    {
     "data": {
      "text/plain": [
       "array([[0, 0],\n",
       "       [0, 1],\n",
       "       [1, 0],\n",
       "       [1, 1]])"
      ]
     },
     "execution_count": 69,
     "metadata": {},
     "output_type": "execute_result"
    }
   ],
   "source": [
    "X"
   ]
  },
  {
   "cell_type": "code",
   "execution_count": 71,
   "metadata": {},
   "outputs": [
    {
     "data": {
      "text/plain": [
       "array([0, 1, 1, 0])"
      ]
     },
     "execution_count": 71,
     "metadata": {},
     "output_type": "execute_result"
    }
   ],
   "source": [
    "y"
   ]
  },
  {
   "cell_type": "code",
   "execution_count": 20,
   "metadata": {},
   "outputs": [],
   "source": [
    "def initialize_network():\n",
    "    \n",
    "    input_neurons=len(X[0])\n",
    "    hidden_neurons=input_neurons+1\n",
    "    output_neurons=1\n",
    "    \n",
    "    n_hidden_layers=1\n",
    "    \n",
    "    net=list()\n",
    "    \n",
    "    for h in range(n_hidden_layers):\n",
    "        if h!=0:\n",
    "            input_neurons=len(net[-1])\n",
    "            \n",
    "        hidden_layer = [ { 'weights': np.random.uniform(size=input_neurons)} for i in range(hidden_neurons) ]\n",
    "        net.append(hidden_layer)\n",
    "    \n",
    "    output_layer = [ { 'weights': np.random.uniform(size=hidden_neurons)} for i in range(output_neurons)]\n",
    "    net.append(output_layer)\n",
    "    \n",
    "    return net"
   ]
  },
  {
   "cell_type": "code",
   "execution_count": 21,
   "metadata": {},
   "outputs": [],
   "source": [
    "def print_network(net):\n",
    "    for i,layer in enumerate(net,1):\n",
    "        print(\"Layer {} \".format(i))\n",
    "        for j,neuron in enumerate(layer,1):\n",
    "            print(\"neuron {} :\".format(j),neuron)"
   ]
  },
  {
   "cell_type": "code",
   "execution_count": 22,
   "metadata": {},
   "outputs": [],
   "source": [
    "def activate(weights, inputs):\n",
    "    activation = weights[-1]\n",
    "    for i in range(len(weights)-1):\n",
    "        activation += weights[i] * inputs[i]\n",
    "    return activation"
   ]
  },
  {
   "cell_type": "code",
   "execution_count": 23,
   "metadata": {},
   "outputs": [],
   "source": [
    "def forward_propagation(net,input):\n",
    "    row=input\n",
    "    for layer in net:\n",
    "        prev_input=np.array([])\n",
    "        for neuron in layer:\n",
    "            sum=activate(neuron['weights'], row)\n",
    "            \n",
    "            result=activate_sigmoid(sum)\n",
    "            neuron['result']=result\n",
    "            \n",
    "            prev_input=np.append(prev_input,[result])\n",
    "        row =prev_input\n",
    "    \n",
    "    return row"
   ]
  },
  {
   "cell_type": "code",
   "execution_count": 24,
   "metadata": {},
   "outputs": [],
   "source": [
    "def back_propagation(net,row,expected):\n",
    "     for i in reversed(range(len(net))):\n",
    "            layer=net[i]\n",
    "            errors=np.array([])\n",
    "            if i==len(net)-1:\n",
    "                results=[neuron['result'] for neuron in layer]\n",
    "                errors = expected-np.array(results) \n",
    "            else:\n",
    "                for j in range(len(layer)):\n",
    "                    herror=0\n",
    "                    nextlayer=net[i+1]\n",
    "                    for neuron in nextlayer:\n",
    "                        herror+=(neuron['weights'][j]*neuron['delta'])\n",
    "                    errors=np.append(errors,[herror])\n",
    "            \n",
    "            for j in range(len(layer)):\n",
    "                neuron=layer[j]\n",
    "                neuron['delta']=errors[j]*sigmoidDerivative(neuron['result'])"
   ]
  },
  {
   "cell_type": "code",
   "execution_count": 25,
   "metadata": {},
   "outputs": [],
   "source": [
    "def updateWeights(net,input,lrate):\n",
    "    \n",
    "    for i in range(len(net)):\n",
    "        inputs = input\n",
    "        if i!=0:\n",
    "            inputs=[neuron['result'] for neuron in net[i-1]]\n",
    "\n",
    "        for neuron in net[i]:\n",
    "            for j in range(len(inputs)):\n",
    "                neuron['weights'][j]+=lrate*neuron['delta']*inputs[j]"
   ]
  },
  {
   "cell_type": "code",
   "execution_count": 61,
   "metadata": {},
   "outputs": [],
   "source": [
    "def training(net, epochs,lrate,n_outputs):\n",
    "    errors=[]\n",
    "    for epoch in range(epochs):\n",
    "        sum_error=0\n",
    "        for i,row in enumerate(X):\n",
    "            outputs=forward_propagation(net,row)\n",
    "            \n",
    "            expected=[y[i]]\n",
    "    \n",
    "            sum_error+=sum([(expected[j]-outputs[j])**2 for j in range(len(expected))])\n",
    "            back_propagation(net,row,expected)\n",
    "            updateWeights(net,row,0.05)\n",
    "        if epoch%10000 ==0:\n",
    "            print('>epoch=%d,error=%.3f'%(epoch,sum_error))\n",
    "            errors.append(sum_error)\n",
    "    print('>epoch=%d,error=%.3f'%(epoch,sum_error))\n",
    "    return errors"
   ]
  },
  {
   "cell_type": "code",
   "execution_count": 58,
   "metadata": {},
   "outputs": [],
   "source": [
    "def predict(network, row):\n",
    "    outputs = forward_propagation(net, row)\n",
    "    return outputs"
   ]
  },
  {
   "cell_type": "code",
   "execution_count": null,
   "metadata": {},
   "outputs": [],
   "source": []
  },
  {
   "cell_type": "code",
   "execution_count": null,
   "metadata": {},
   "outputs": [],
   "source": []
  },
  {
   "cell_type": "code",
   "execution_count": 77,
   "metadata": {},
   "outputs": [
    {
     "name": "stdout",
     "output_type": "stream",
     "text": [
      "Layer 1 \n",
      "neuron 1 : {'weights': array([0.32212696, 0.27572517])}\n",
      "neuron 2 : {'weights': array([0.5065305 , 0.97186762])}\n",
      "neuron 3 : {'weights': array([0.21556418, 0.36295259])}\n",
      "Layer 2 \n",
      "neuron 1 : {'weights': array([0.27453171, 0.41491708, 0.70540426])}\n"
     ]
    }
   ],
   "source": []
  },
  {
   "cell_type": "code",
   "execution_count": 72,
   "metadata": {},
   "outputs": [],
   "source": [
    "def countLastLayerNeuron(net):\n",
    "    count = 0\n",
    "    for i,layer in enumerate(net,1):\n",
    "            for j,neuron in enumerate(layer,1):\n",
    "                count = j\n",
    "    return count"
   ]
  },
  {
   "cell_type": "code",
   "execution_count": 73,
   "metadata": {},
   "outputs": [
    {
     "data": {
      "text/plain": [
       "1"
      ]
     },
     "execution_count": 73,
     "metadata": {},
     "output_type": "execute_result"
    }
   ],
   "source": [
    "countLastLayerNeuron(net)"
   ]
  },
  {
   "cell_type": "code",
   "execution_count": 74,
   "metadata": {},
   "outputs": [],
   "source": [
    "def append_layer(net, neurons):\n",
    "        hidden_layer = [ {'weights': np.random.uniform(size=countLastLayerNeuron(net))} for i in range(neurons)]\n",
    "        net.append(hidden_layer)"
   ]
  },
  {
   "cell_type": "code",
   "execution_count": 82,
   "metadata": {},
   "outputs": [
    {
     "name": "stdout",
     "output_type": "stream",
     "text": [
      "Layer 1 \n",
      "neuron 1 : {'weights': array([0.50508524, 0.33359815])}\n",
      "neuron 2 : {'weights': array([0.49422053, 0.71730878])}\n",
      "neuron 3 : {'weights': array([0.45913074, 0.07695145])}\n",
      "Layer 2 \n",
      "neuron 1 : {'weights': array([0.24774875, 0.48784466, 0.04331682])}\n"
     ]
    }
   ],
   "source": [
    "net=initialize_network()\n",
    "print_network(net)"
   ]
  },
  {
   "cell_type": "code",
   "execution_count": 83,
   "metadata": {},
   "outputs": [],
   "source": [
    "append_layer(net,4)"
   ]
  },
  {
   "cell_type": "code",
   "execution_count": 84,
   "metadata": {},
   "outputs": [
    {
     "name": "stdout",
     "output_type": "stream",
     "text": [
      "Layer 1 \n",
      "neuron 1 : {'weights': array([0.50508524, 0.33359815])}\n",
      "neuron 2 : {'weights': array([0.49422053, 0.71730878])}\n",
      "neuron 3 : {'weights': array([0.45913074, 0.07695145])}\n",
      "Layer 2 \n",
      "neuron 1 : {'weights': array([0.24774875, 0.48784466, 0.04331682])}\n",
      "Layer 3 \n",
      "neuron 1 : {'weights': array([0.00850062])}\n",
      "neuron 2 : {'weights': array([0.99420811])}\n",
      "neuron 3 : {'weights': array([0.49311608])}\n",
      "neuron 4 : {'weights': array([0.9604102])}\n"
     ]
    }
   ],
   "source": [
    "print_network(net)"
   ]
  },
  {
   "cell_type": "code",
   "execution_count": 85,
   "metadata": {},
   "outputs": [],
   "source": [
    "append_layer(net,2)"
   ]
  },
  {
   "cell_type": "code",
   "execution_count": 86,
   "metadata": {},
   "outputs": [
    {
     "name": "stdout",
     "output_type": "stream",
     "text": [
      "Layer 1 \n",
      "neuron 1 : {'weights': array([0.50508524, 0.33359815])}\n",
      "neuron 2 : {'weights': array([0.49422053, 0.71730878])}\n",
      "neuron 3 : {'weights': array([0.45913074, 0.07695145])}\n",
      "Layer 2 \n",
      "neuron 1 : {'weights': array([0.24774875, 0.48784466, 0.04331682])}\n",
      "Layer 3 \n",
      "neuron 1 : {'weights': array([0.00850062])}\n",
      "neuron 2 : {'weights': array([0.99420811])}\n",
      "neuron 3 : {'weights': array([0.49311608])}\n",
      "neuron 4 : {'weights': array([0.9604102])}\n",
      "Layer 4 \n",
      "neuron 1 : {'weights': array([0.94128515, 0.25929711, 0.38794938, 0.01765085])}\n",
      "neuron 2 : {'weights': array([0.26690576, 0.13004178, 0.6559487 , 0.12981508])}\n"
     ]
    }
   ],
   "source": [
    "print_network(net)"
   ]
  },
  {
   "cell_type": "code",
   "execution_count": 87,
   "metadata": {},
   "outputs": [],
   "source": [
    "append_layer(net,5)"
   ]
  },
  {
   "cell_type": "code",
   "execution_count": 88,
   "metadata": {},
   "outputs": [
    {
     "name": "stdout",
     "output_type": "stream",
     "text": [
      "Layer 1 \n",
      "neuron 1 : {'weights': array([0.50508524, 0.33359815])}\n",
      "neuron 2 : {'weights': array([0.49422053, 0.71730878])}\n",
      "neuron 3 : {'weights': array([0.45913074, 0.07695145])}\n",
      "Layer 2 \n",
      "neuron 1 : {'weights': array([0.24774875, 0.48784466, 0.04331682])}\n",
      "Layer 3 \n",
      "neuron 1 : {'weights': array([0.00850062])}\n",
      "neuron 2 : {'weights': array([0.99420811])}\n",
      "neuron 3 : {'weights': array([0.49311608])}\n",
      "neuron 4 : {'weights': array([0.9604102])}\n",
      "Layer 4 \n",
      "neuron 1 : {'weights': array([0.94128515, 0.25929711, 0.38794938, 0.01765085])}\n",
      "neuron 2 : {'weights': array([0.26690576, 0.13004178, 0.6559487 , 0.12981508])}\n",
      "Layer 5 \n",
      "neuron 1 : {'weights': array([0.88934864, 0.66229046])}\n",
      "neuron 2 : {'weights': array([0.24047086, 0.7416047 ])}\n",
      "neuron 3 : {'weights': array([0.92953667, 0.63182831])}\n",
      "neuron 4 : {'weights': array([0.38697021, 0.17696517])}\n",
      "neuron 5 : {'weights': array([0.12590897, 0.32358805])}\n"
     ]
    }
   ],
   "source": [
    "print_network(net)"
   ]
  },
  {
   "cell_type": "code",
   "execution_count": 89,
   "metadata": {},
   "outputs": [],
   "source": [
    "append_layer(net,1)"
   ]
  },
  {
   "cell_type": "code",
   "execution_count": 90,
   "metadata": {},
   "outputs": [
    {
     "name": "stdout",
     "output_type": "stream",
     "text": [
      "Layer 1 \n",
      "neuron 1 : {'weights': array([0.50508524, 0.33359815])}\n",
      "neuron 2 : {'weights': array([0.49422053, 0.71730878])}\n",
      "neuron 3 : {'weights': array([0.45913074, 0.07695145])}\n",
      "Layer 2 \n",
      "neuron 1 : {'weights': array([0.24774875, 0.48784466, 0.04331682])}\n",
      "Layer 3 \n",
      "neuron 1 : {'weights': array([0.00850062])}\n",
      "neuron 2 : {'weights': array([0.99420811])}\n",
      "neuron 3 : {'weights': array([0.49311608])}\n",
      "neuron 4 : {'weights': array([0.9604102])}\n",
      "Layer 4 \n",
      "neuron 1 : {'weights': array([0.94128515, 0.25929711, 0.38794938, 0.01765085])}\n",
      "neuron 2 : {'weights': array([0.26690576, 0.13004178, 0.6559487 , 0.12981508])}\n",
      "Layer 5 \n",
      "neuron 1 : {'weights': array([0.88934864, 0.66229046])}\n",
      "neuron 2 : {'weights': array([0.24047086, 0.7416047 ])}\n",
      "neuron 3 : {'weights': array([0.92953667, 0.63182831])}\n",
      "neuron 4 : {'weights': array([0.38697021, 0.17696517])}\n",
      "neuron 5 : {'weights': array([0.12590897, 0.32358805])}\n",
      "Layer 6 \n",
      "neuron 1 : {'weights': array([0.11108419, 0.84561498, 0.82649773, 0.32495911, 0.89485465])}\n"
     ]
    }
   ],
   "source": [
    "print_network(net)"
   ]
  },
  {
   "cell_type": "code",
   "execution_count": 91,
   "metadata": {},
   "outputs": [
    {
     "name": "stdout",
     "output_type": "stream",
     "text": [
      ">epoch=0,error=1.703\n",
      ">epoch=10000,error=1.008\n",
      ">epoch=19999,error=1.007\n"
     ]
    }
   ],
   "source": [
    "errors=training(net,20000, 0.05,1)"
   ]
  },
  {
   "cell_type": "code",
   "execution_count": null,
   "metadata": {},
   "outputs": [],
   "source": []
  }
 ],
 "metadata": {
  "kernelspec": {
   "display_name": "Python 3",
   "language": "python",
   "name": "python3"
  },
  "language_info": {
   "codemirror_mode": {
    "name": "ipython",
    "version": 3
   },
   "file_extension": ".py",
   "mimetype": "text/x-python",
   "name": "python",
   "nbconvert_exporter": "python",
   "pygments_lexer": "ipython3",
   "version": "3.7.0"
  }
 },
 "nbformat": 4,
 "nbformat_minor": 2
}
